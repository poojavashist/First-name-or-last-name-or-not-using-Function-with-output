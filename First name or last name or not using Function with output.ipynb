{
 "cells": [
  {
   "cell_type": "code",
   "execution_count": 27,
   "metadata": {},
   "outputs": [
    {
     "name": "stdout",
     "output_type": "stream",
     "text": [
      "What is your first name? \n",
      "Pooja\n",
      "What is your last name?name\n",
      "Pooja Name\n"
     ]
    }
   ],
   "source": [
    "#run code\n",
    "def format_name(f_name,l_name):\n",
    "    if f_name == \"\" or l_name == \"\":\n",
    "        return \"You don't provide a valid inputs.\"\n",
    "    formated_f_name= f_name.title()\n",
    "    formated_l_name= l_name.title()\n",
    "    return f\"{formated_f_name} {formated_l_name}\"\n",
    "\n",
    "print(format_name(input(\"What is your first name? \\n\"), input(\"What is your last name?\")))\n",
    "\n",
    "  "
   ]
  },
  {
   "cell_type": "code",
   "execution_count": 29,
   "metadata": {},
   "outputs": [
    {
     "name": "stdout",
     "output_type": "stream",
     "text": [
      "Your first name: pooj\n",
      "Your last name: vas\n",
      "None\n",
      "What is your first name? nm\n",
      "What is your last name? jk\n",
      "None\n"
     ]
    },
    {
     "ename": "TypeError",
     "evalue": "object of type 'NoneType' has no len()",
     "output_type": "error",
     "traceback": [
      "\u001b[1;31m---------------------------------------------------------------------------\u001b[0m",
      "\u001b[1;31mTypeError\u001b[0m                                 Traceback (most recent call last)",
      "\u001b[1;32m<ipython-input-29-3d8fc8ddfc26>\u001b[0m in \u001b[0;36m<module>\u001b[1;34m\u001b[0m\n\u001b[0;32m     14\u001b[0m \u001b[1;33m\u001b[0m\u001b[0m\n\u001b[0;32m     15\u001b[0m \u001b[1;31m#Already used functions with outputs.\u001b[0m\u001b[1;33m\u001b[0m\u001b[1;33m\u001b[0m\u001b[1;33m\u001b[0m\u001b[0m\n\u001b[1;32m---> 16\u001b[1;33m \u001b[0mlength\u001b[0m \u001b[1;33m=\u001b[0m \u001b[0mlen\u001b[0m\u001b[1;33m(\u001b[0m\u001b[0mformatted_name\u001b[0m\u001b[1;33m)\u001b[0m\u001b[1;33m\u001b[0m\u001b[1;33m\u001b[0m\u001b[0m\n\u001b[0m\u001b[0;32m     17\u001b[0m \u001b[1;33m\u001b[0m\u001b[0m\n\u001b[0;32m     18\u001b[0m \u001b[1;31m#Return as an early exit\u001b[0m\u001b[1;33m\u001b[0m\u001b[1;33m\u001b[0m\u001b[1;33m\u001b[0m\u001b[0m\n",
      "\u001b[1;31mTypeError\u001b[0m: object of type 'NoneType' has no len()"
     ]
    }
   ],
   "source": [
    "#Functions with Outputs\n",
    "def format_name(f_name, l_name):\n",
    "  if f_name == \"\" or l_name == \"\":\n",
    "    return \"You didn't provide valid inputs.\"\n",
    "  formated_f_name = f_name.title()\n",
    "  formated_l_name = l_name.title()\n",
    "  f\"Result: {formated_f_name} {formated_l_name}\"\n",
    "\n",
    "#Storing output in a variable\n",
    "formatted_name = format_name(input(\"Your first name: \"), input(\"Your last name: \"))\n",
    "print(formatted_name)\n",
    "#or printing output directly\n",
    "print(format_name(input(\"What is your first name? \"), input(\"What is your last name? \")))\n",
    "\n",
    "#Already used functions with outputs.\n",
    "length = len(formatted_name)\n",
    "\n",
    "#Return as an early exit\n",
    "def format_name(f_name, l_name):\n",
    "  \"\"\"Take a first and last name and format it \n",
    "  to return the title case version of the name.\"\"\"\n",
    "  if f_name == \"\" or l_name == \"\":\n",
    "    return \"You didn't provide valid inputs.\"\n",
    "  formated_f_name = f_name.title()\n",
    "  formated_l_name = l_name.title()\n",
    "  return f\"Result: {formated_f_name} {formated_l_name}\"\n",
    "\n",
    "\n"
   ]
  },
  {
   "cell_type": "code",
   "execution_count": 4,
   "metadata": {},
   "outputs": [
    {
     "name": "stdout",
     "output_type": "stream",
     "text": [
      "Pooja\n",
      "Vas\n"
     ]
    }
   ],
   "source": [
    "def format_name(f_name,l_name):\n",
    "    print(f_name.title())\n",
    "    print(l_name.title())\n",
    "format_name(\"pooja\",\"Vas\")\n",
    "    \n",
    "#print(my_function(25))"
   ]
  },
  {
   "cell_type": "code",
   "execution_count": 25,
   "metadata": {},
   "outputs": [
    {
     "name": "stdout",
     "output_type": "stream",
     "text": [
      "Pooja Vas\n"
     ]
    }
   ],
   "source": [
    "\n",
    "def format_name(f_name,l_name):\n",
    "    formated_f_name= f_name.title()\n",
    "    formated_l_name= l_name.title()\n",
    "    return f\"{formated_f_name} {formated_l_name}\"\n",
    "\n",
    "print(format_name(\"pooja\",\"Vas\"))\n",
    "\n",
    "  "
   ]
  },
  {
   "cell_type": "code",
   "execution_count": 24,
   "metadata": {},
   "outputs": [
    {
     "name": "stdout",
     "output_type": "stream",
     "text": [
      "12.0\n"
     ]
    }
   ],
   "source": [
    "def add(n1, n2):\n",
    "  return n1 + n2\n",
    " \n",
    "def subtract(n1, n2):\n",
    "  return n1 - n2\n",
    " \n",
    "def multiply(n1, n2):\n",
    "  return n1 * n2\n",
    " \n",
    "def divide(n1, n2):\n",
    "  return n1 / n2\n",
    " \n",
    "print(add(2, multiply(5, divide(8, 4))))"
   ]
  },
  {
   "cell_type": "code",
   "execution_count": 2,
   "metadata": {},
   "outputs": [
    {
     "name": "stdout",
     "output_type": "stream",
     "text": [
      "15\n"
     ]
    }
   ],
   "source": [
    "def outer_function(a, b):\n",
    "    def inner_function(c, d):\n",
    "        return c + d\n",
    "    return inner_function(a, b)\n",
    " \n",
    "result = outer_function(5, 10)\n",
    "print(result)\n",
    "\n",
    "\n"
   ]
  },
  {
   "cell_type": "code",
   "execution_count": 3,
   "metadata": {},
   "outputs": [
    {
     "name": "stdout",
     "output_type": "stream",
     "text": [
      "None\n"
     ]
    }
   ],
   "source": [
    "def my_function(a):\n",
    "    if a < 40:\n",
    "        return\n",
    "        print(\"Terrible\")\n",
    "    if a < 80:\n",
    "        return \"Pass\"\n",
    "    else:\n",
    "        return \"Great\"\n",
    "print(my_function(25))"
   ]
  }
 ],
 "metadata": {
  "kernelspec": {
   "display_name": "Python 3",
   "language": "python",
   "name": "python3"
  },
  "language_info": {
   "codemirror_mode": {
    "name": "ipython",
    "version": 3
   },
   "file_extension": ".py",
   "mimetype": "text/x-python",
   "name": "python",
   "nbconvert_exporter": "python",
   "pygments_lexer": "ipython3",
   "version": "3.8.3"
  }
 },
 "nbformat": 4,
 "nbformat_minor": 4
}
